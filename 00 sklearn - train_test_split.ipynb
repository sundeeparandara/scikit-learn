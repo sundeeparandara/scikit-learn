{
 "cells": [
  {
   "cell_type": "markdown",
   "id": "397b9bdb",
   "metadata": {},
   "source": [
    "# sklearn - train_test_split"
   ]
  },
  {
   "cell_type": "code",
   "execution_count": 1,
   "id": "7cc08d49",
   "metadata": {},
   "outputs": [],
   "source": [
    "from sklearn.model_selection import train_test_split\n",
    "import numpy as np"
   ]
  },
  {
   "cell_type": "code",
   "execution_count": 2,
   "id": "c1999954",
   "metadata": {},
   "outputs": [],
   "source": [
    "#train_test_split?"
   ]
  },
  {
   "cell_type": "markdown",
   "id": "5edaf5de",
   "metadata": {},
   "source": [
    "Note: The input array into train_test_split can be lists, numpy arrays, pandas dataframe and scipy-sparse matrices"
   ]
  },
  {
   "cell_type": "markdown",
   "id": "94d7f474",
   "metadata": {},
   "source": [
    "*arrays : \n",
    "\n",
    "sequence of indexables with same length / shape[0]\n",
    "    \n",
    "Allowed inputs are lists, numpy arrays, scipy-sparse\n",
    "matrices or pandas dataframes."
   ]
  },
  {
   "cell_type": "markdown",
   "id": "3d2e53ce",
   "metadata": {},
   "source": [
    "### Generate Data"
   ]
  },
  {
   "cell_type": "code",
   "execution_count": 3,
   "id": "100d0a6a",
   "metadata": {},
   "outputs": [
    {
     "data": {
      "text/plain": [
       "array([[6, 3],\n",
       "       [7, 4],\n",
       "       [6, 9],\n",
       "       [2, 6],\n",
       "       [7, 4],\n",
       "       [3, 7],\n",
       "       [7, 2],\n",
       "       [5, 4],\n",
       "       [1, 7],\n",
       "       [5, 1]])"
      ]
     },
     "execution_count": 3,
     "metadata": {},
     "output_type": "execute_result"
    }
   ],
   "source": [
    "np.random.seed(42)\n",
    "arr = np.random.randint(0,10,size=(10,2))\n",
    "arr"
   ]
  },
  {
   "cell_type": "code",
   "execution_count": 4,
   "id": "969b6ed2",
   "metadata": {},
   "outputs": [
    {
     "data": {
      "text/plain": [
       "array([6, 7, 6, 2, 7, 3, 7, 5, 1, 5])"
      ]
     },
     "execution_count": 4,
     "metadata": {},
     "output_type": "execute_result"
    }
   ],
   "source": [
    "X = arr[:,0]\n",
    "X"
   ]
  },
  {
   "cell_type": "code",
   "execution_count": 5,
   "id": "4f581ab4",
   "metadata": {},
   "outputs": [
    {
     "data": {
      "text/plain": [
       "array([3, 4, 9, 6, 4, 7, 2, 4, 7, 1])"
      ]
     },
     "execution_count": 5,
     "metadata": {},
     "output_type": "execute_result"
    }
   ],
   "source": [
    "y = arr[:,1]\n",
    "y"
   ]
  },
  {
   "cell_type": "markdown",
   "id": "11fbf4fa",
   "metadata": {},
   "source": [
    "### Apply train_test_split"
   ]
  },
  {
   "cell_type": "code",
   "execution_count": 6,
   "id": "bd04819b",
   "metadata": {},
   "outputs": [],
   "source": [
    "X_train, X_test, y_train, y_test = train_test_split(X, y, test_size=0.3, random_state=42)"
   ]
  },
  {
   "cell_type": "markdown",
   "id": "4e0f0d63",
   "metadata": {},
   "source": [
    "### Results"
   ]
  },
  {
   "cell_type": "code",
   "execution_count": 7,
   "id": "398139f6",
   "metadata": {},
   "outputs": [
    {
     "data": {
      "text/plain": [
       "array([6, 5, 6, 5, 7, 2, 7])"
      ]
     },
     "execution_count": 7,
     "metadata": {},
     "output_type": "execute_result"
    }
   ],
   "source": [
    "X_train"
   ]
  },
  {
   "cell_type": "code",
   "execution_count": 8,
   "id": "e2b91842",
   "metadata": {},
   "outputs": [
    {
     "data": {
      "text/plain": [
       "array([3, 4, 9, 1, 4, 6, 2])"
      ]
     },
     "execution_count": 8,
     "metadata": {},
     "output_type": "execute_result"
    }
   ],
   "source": [
    "y_train"
   ]
  },
  {
   "cell_type": "code",
   "execution_count": 9,
   "id": "40f244fe",
   "metadata": {},
   "outputs": [
    {
     "data": {
      "text/plain": [
       "array([7, 4, 7])"
      ]
     },
     "execution_count": 9,
     "metadata": {},
     "output_type": "execute_result"
    }
   ],
   "source": [
    "y_test"
   ]
  },
  {
   "cell_type": "code",
   "execution_count": 10,
   "id": "1a52e422",
   "metadata": {},
   "outputs": [
    {
     "data": {
      "text/plain": [
       "array([3, 4, 9, 1, 4, 6, 2])"
      ]
     },
     "execution_count": 10,
     "metadata": {},
     "output_type": "execute_result"
    }
   ],
   "source": [
    "y_train"
   ]
  }
 ],
 "metadata": {
  "kernelspec": {
   "display_name": "Python 3",
   "language": "python",
   "name": "python3"
  },
  "language_info": {
   "codemirror_mode": {
    "name": "ipython",
    "version": 3
   },
   "file_extension": ".py",
   "mimetype": "text/x-python",
   "name": "python",
   "nbconvert_exporter": "python",
   "pygments_lexer": "ipython3",
   "version": "3.8.8"
  }
 },
 "nbformat": 4,
 "nbformat_minor": 5
}
